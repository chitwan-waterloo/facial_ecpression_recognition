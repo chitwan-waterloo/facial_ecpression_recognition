{
 "cells": [
  {
   "cell_type": "code",
   "execution_count": 4,
   "id": "64caa4e1",
   "metadata": {},
   "outputs": [],
   "source": [
    "from keras.utils import to_categorical\n",
    "from keras_preprocessing.image import load_img\n",
    "from keras.models import Sequential\n",
    "from keras.layers import Dense, Conv2D,Dropout, Flatten, MaxPooling2D\n",
    "import os\n",
    "import pandas as pd\n",
    "import numpy as np"
   ]
  },
  {
   "cell_type": "code",
   "execution_count": 5,
   "id": "6c07c7f2",
   "metadata": {},
   "outputs": [],
   "source": [
    "train_dir = 'images/train'\n",
    "test_dir = 'images/validation'"
   ]
  },
  {
   "cell_type": "code",
   "execution_count": 8,
   "id": "b4c7220b",
   "metadata": {},
   "outputs": [],
   "source": [
    "def createDataFrame(dir):\n",
    "    image_paths = []\n",
    "    labels = []\n",
    "    for label in os.listdir(dir):\n",
    "        for image_name in os.listdir(os.path.join(dir,label)):\n",
    "            image_paths.append(os.path.join(dir,label,image_name))\n",
    "            labels.append(label)\n",
    "        print(label, \": Completed\")\n",
    "    return image_paths, labels\n",
    "        "
   ]
  },
  {
   "cell_type": "code",
   "execution_count": 9,
   "id": "6f10ee82",
   "metadata": {},
   "outputs": [
    {
     "name": "stdout",
     "output_type": "stream",
     "text": [
      "happy : Completed\n",
      "sad : Completed\n",
      "fear : Completed\n",
      "surprise : Completed\n",
      "neutral : Completed\n",
      "angry : Completed\n",
      "disgust : Completed\n"
     ]
    }
   ],
   "source": [
    "train = pd.DataFrame()\n",
    "train['image'], train['label'] = createDataFrame(train_dir)"
   ]
  },
  {
   "cell_type": "code",
   "execution_count": 12,
   "id": "5b8220eb",
   "metadata": {},
   "outputs": [
    {
     "name": "stdout",
     "output_type": "stream",
     "text": [
      "                                image    label\n",
      "0         images/train/happy/3578.jpg    happy\n",
      "1        images/train/happy/16988.jpg    happy\n",
      "2         images/train/happy/2666.jpg    happy\n",
      "3         images/train/happy/5109.jpg    happy\n",
      "4        images/train/happy/11981.jpg    happy\n",
      "...                               ...      ...\n",
      "28816  images/train/disgust/10112.jpg  disgust\n",
      "28817  images/train/disgust/21668.jpg  disgust\n",
      "28818   images/train/disgust/7049.jpg  disgust\n",
      "28819   images/train/disgust/9716.jpg  disgust\n",
      "28820   images/train/disgust/3561.jpg  disgust\n",
      "\n",
      "[28821 rows x 2 columns]\n"
     ]
    }
   ],
   "source": [
    "print(train)"
   ]
  },
  {
   "cell_type": "code",
   "execution_count": 13,
   "id": "e1fb79a1",
   "metadata": {},
   "outputs": [
    {
     "name": "stdout",
     "output_type": "stream",
     "text": [
      "happy : Completed\n",
      "sad : Completed\n",
      "fear : Completed\n",
      "surprise : Completed\n",
      "neutral : Completed\n",
      "angry : Completed\n",
      "disgust : Completed\n"
     ]
    }
   ],
   "source": [
    "test = pd.DataFrame()\n",
    "test['image'], test['label'] = createDataFrame(test_dir)"
   ]
  },
  {
   "cell_type": "code",
   "execution_count": 16,
   "id": "5c264d91",
   "metadata": {},
   "outputs": [
    {
     "name": "stdout",
     "output_type": "stream",
     "text": [
      "                                    image    label\n",
      "0       images/validation/happy/23933.jpg    happy\n",
      "1       images/validation/happy/24906.jpg    happy\n",
      "2       images/validation/happy/18033.jpg    happy\n",
      "3       images/validation/happy/15271.jpg    happy\n",
      "4       images/validation/happy/26888.jpg    happy\n",
      "...                                   ...      ...\n",
      "7061  images/validation/disgust/20761.jpg  disgust\n",
      "7062  images/validation/disgust/28710.jpg  disgust\n",
      "7063  images/validation/disgust/23876.jpg  disgust\n",
      "7064   images/validation/disgust/9460.jpg  disgust\n",
      "7065  images/validation/disgust/35580.jpg  disgust\n",
      "\n",
      "[7066 rows x 2 columns]\n"
     ]
    }
   ],
   "source": [
    "print(test)"
   ]
  },
  {
   "cell_type": "code",
   "execution_count": 20,
   "id": "61f9e24b",
   "metadata": {},
   "outputs": [],
   "source": [
    "from tqdm.notebook import tqdm"
   ]
  },
  {
   "cell_type": "code",
   "execution_count": 21,
   "id": "c2794791",
   "metadata": {},
   "outputs": [],
   "source": [
    "def extract_features(images):\n",
    "    features = []\n",
    "    for image in tqdm(images):\n",
    "        img = load_img(image, grayscale = True)\n",
    "        img = np.array(img)\n",
    "        features.append(img)\n",
    "    features = np.array(features)\n",
    "    features = features.reshape(len(features), 48, 48,1)\n",
    "    return features"
   ]
  },
  {
   "cell_type": "code",
   "execution_count": 22,
   "id": "b3c838c8",
   "metadata": {},
   "outputs": [
    {
     "data": {
      "application/vnd.jupyter.widget-view+json": {
       "model_id": "7c2e54621b8f4b0f9a9ffae74c9a5327",
       "version_major": 2,
       "version_minor": 0
      },
      "text/plain": [
       "  0%|          | 0/28821 [00:00<?, ?it/s]"
      ]
     },
     "metadata": {},
     "output_type": "display_data"
    },
    {
     "name": "stderr",
     "output_type": "stream",
     "text": [
      "/opt/anaconda3/lib/python3.8/site-packages/keras_preprocessing/image/utils.py:107: UserWarning: grayscale is deprecated. Please use color_mode = \"grayscale\"\n",
      "  warnings.warn('grayscale is deprecated. Please use '\n"
     ]
    }
   ],
   "source": [
    "train_features = extract_features(train['image'])"
   ]
  },
  {
   "cell_type": "code",
   "execution_count": 23,
   "id": "de081f8f",
   "metadata": {},
   "outputs": [
    {
     "data": {
      "application/vnd.jupyter.widget-view+json": {
       "model_id": "fa231e9cb85f460994eab88023b135d5",
       "version_major": 2,
       "version_minor": 0
      },
      "text/plain": [
       "  0%|          | 0/7066 [00:00<?, ?it/s]"
      ]
     },
     "metadata": {},
     "output_type": "display_data"
    }
   ],
   "source": [
    "test_features = extract_features(test['image'])"
   ]
  },
  {
   "cell_type": "code",
   "execution_count": 24,
   "id": "848712be",
   "metadata": {},
   "outputs": [],
   "source": [
    "x_train = train_features/225.0\n",
    "x_test = test_features/255.0"
   ]
  },
  {
   "cell_type": "code",
   "execution_count": 25,
   "id": "2c6f7ba1",
   "metadata": {},
   "outputs": [],
   "source": [
    "from sklearn.preprocessing import LabelEncoder"
   ]
  },
  {
   "cell_type": "code",
   "execution_count": 29,
   "id": "af71cea3",
   "metadata": {},
   "outputs": [
    {
     "data": {
      "text/plain": [
       "LabelEncoder()"
      ]
     },
     "execution_count": 29,
     "metadata": {},
     "output_type": "execute_result"
    }
   ],
   "source": [
    "label = LabelEncoder()\n",
    "label.fit(train['label'])"
   ]
  },
  {
   "cell_type": "code",
   "execution_count": 30,
   "id": "3f2e7782",
   "metadata": {},
   "outputs": [],
   "source": [
    "y_train = label.transform(train['label'])\n",
    "y_test = label.transform(test['label'])"
   ]
  },
  {
   "cell_type": "code",
   "execution_count": 31,
   "id": "a3cf10b6",
   "metadata": {},
   "outputs": [],
   "source": [
    "y_train = to_categorical(y_train,num_classes = 7) # Since 7 emotions in the images\n",
    "y_test = to_categorical(y_test,num_classes = 7) # Since 7 emotions in the images"
   ]
  },
  {
   "cell_type": "code",
   "execution_count": 33,
   "id": "98a14464",
   "metadata": {},
   "outputs": [],
   "source": [
    "model = Sequential()\n",
    "\n",
    "# Convolution Layers\n",
    "model.add(Conv2D(128, kernel_size=(3,3), activation='relu', input_shape=(48,48,1)))\n",
    "model.add(MaxPooling2D(pool_size=(2,2)))\n",
    "model.add(Dropout(0.4))\n",
    "\n",
    "model.add(Conv2D(256, kernel_size=(3,3), activation='relu'))\n",
    "model.add(MaxPooling2D(pool_size=(2,2)))\n",
    "model.add(Dropout(0.4))\n",
    "\n",
    "model.add(Conv2D(512, kernel_size=(3,3), activation='relu'))\n",
    "model.add(MaxPooling2D(pool_size=(2,2)))\n",
    "model.add(Dropout(0.4))\n",
    "\n",
    "\n",
    "model.add(Conv2D(512, kernel_size=(3,3), activation='relu'))\n",
    "model.add(MaxPooling2D(pool_size=(2,2)))\n",
    "model.add(Dropout(0.4))\n",
    "          \n",
    "model.add(Flatten())\n",
    "\n",
    "# Fully connected layers\n",
    "model.add(Dense(512, activation='relu'))\n",
    "model.add(Dropout(0.4))\n",
    "model.add(Dense(256, activation='relu'))\n",
    "model.add(Dropout(0.3))          \n",
    "          \n",
    "# Output Layer\n",
    "model.add(Dense(7, activation = 'softmax')) # 7 from 7 output classes"
   ]
  },
  {
   "cell_type": "code",
   "execution_count": 37,
   "id": "6020de04",
   "metadata": {},
   "outputs": [],
   "source": [
    "model.compile(optimizer='adam', loss='categorical_crossentropy', metrics='accuracy')"
   ]
  },
  {
   "cell_type": "code",
   "execution_count": 38,
   "id": "9e85b09a",
   "metadata": {},
   "outputs": [
    {
     "name": "stdout",
     "output_type": "stream",
     "text": [
      "Epoch 1/100\n",
      "226/226 [==============================] - 1616s 7s/step - loss: 1.8254 - accuracy: 0.2421 - val_loss: 1.8096 - val_accuracy: 0.2583\n",
      "Epoch 2/100\n",
      "226/226 [==============================] - 1691s 7s/step - loss: 1.7900 - accuracy: 0.2529 - val_loss: 1.7158 - val_accuracy: 0.2880\n",
      "Epoch 3/100\n",
      "226/226 [==============================] - 1694s 7s/step - loss: 1.6734 - accuracy: 0.3199 - val_loss: 1.5549 - val_accuracy: 0.3927\n",
      "Epoch 4/100\n",
      "226/226 [==============================] - 1233s 5s/step - loss: 1.5280 - accuracy: 0.4029 - val_loss: 1.3852 - val_accuracy: 0.4689\n",
      "Epoch 5/100\n",
      "226/226 [==============================] - 3676s 16s/step - loss: 1.4462 - accuracy: 0.4403 - val_loss: 1.3236 - val_accuracy: 0.4860\n",
      "Epoch 6/100\n",
      "226/226 [==============================] - 9076s 40s/step - loss: 1.3905 - accuracy: 0.4626 - val_loss: 1.2815 - val_accuracy: 0.5130\n",
      "Epoch 7/100\n",
      "226/226 [==============================] - 1435s 6s/step - loss: 1.3598 - accuracy: 0.4741 - val_loss: 1.2881 - val_accuracy: 0.5057\n",
      "Epoch 8/100\n",
      "226/226 [==============================] - 1518s 7s/step - loss: 1.3290 - accuracy: 0.4878 - val_loss: 1.2773 - val_accuracy: 0.5195\n",
      "Epoch 9/100\n",
      "226/226 [==============================] - 2305s 10s/step - loss: 1.3036 - accuracy: 0.5017 - val_loss: 1.2188 - val_accuracy: 0.5391\n",
      "Epoch 10/100\n",
      "226/226 [==============================] - 1045s 5s/step - loss: 1.2849 - accuracy: 0.5069 - val_loss: 1.1990 - val_accuracy: 0.5442\n",
      "Epoch 11/100\n",
      "226/226 [==============================] - 1059s 5s/step - loss: 1.2605 - accuracy: 0.5191 - val_loss: 1.1797 - val_accuracy: 0.5524\n",
      "Epoch 12/100\n",
      "226/226 [==============================] - 2590s 11s/step - loss: 1.2435 - accuracy: 0.5274 - val_loss: 1.1695 - val_accuracy: 0.5592\n",
      "Epoch 13/100\n",
      "226/226 [==============================] - 2374s 10s/step - loss: 1.2305 - accuracy: 0.5347 - val_loss: 1.1813 - val_accuracy: 0.5500\n",
      "Epoch 14/100\n",
      "226/226 [==============================] - 1848s 8s/step - loss: 1.2132 - accuracy: 0.5380 - val_loss: 1.1477 - val_accuracy: 0.5688\n",
      "Epoch 15/100\n",
      "226/226 [==============================] - 2152s 10s/step - loss: 1.1998 - accuracy: 0.5444 - val_loss: 1.1368 - val_accuracy: 0.5703\n",
      "Epoch 16/100\n",
      "226/226 [==============================] - 1976s 9s/step - loss: 1.1882 - accuracy: 0.5478 - val_loss: 1.1359 - val_accuracy: 0.5692\n",
      "Epoch 17/100\n",
      "226/226 [==============================] - 1756s 8s/step - loss: 1.1786 - accuracy: 0.5528 - val_loss: 1.1204 - val_accuracy: 0.5703\n",
      "Epoch 18/100\n",
      "226/226 [==============================] - 1063s 5s/step - loss: 1.1795 - accuracy: 0.5532 - val_loss: 1.1218 - val_accuracy: 0.5766\n",
      "Epoch 19/100\n",
      "226/226 [==============================] - 1057s 5s/step - loss: 1.1580 - accuracy: 0.5609 - val_loss: 1.1174 - val_accuracy: 0.5814\n",
      "Epoch 20/100\n",
      "226/226 [==============================] - 1060s 5s/step - loss: 1.1528 - accuracy: 0.5641 - val_loss: 1.1101 - val_accuracy: 0.5811\n",
      "Epoch 21/100\n",
      "226/226 [==============================] - 1036s 5s/step - loss: 1.1282 - accuracy: 0.5723 - val_loss: 1.0925 - val_accuracy: 0.5909\n",
      "Epoch 22/100\n",
      "226/226 [==============================] - 1043s 5s/step - loss: 1.1229 - accuracy: 0.5767 - val_loss: 1.1047 - val_accuracy: 0.5899\n",
      "Epoch 23/100\n",
      "226/226 [==============================] - 1029s 5s/step - loss: 1.1243 - accuracy: 0.5730 - val_loss: 1.1037 - val_accuracy: 0.5841\n",
      "Epoch 24/100\n",
      "226/226 [==============================] - 1012s 4s/step - loss: 1.1121 - accuracy: 0.5790 - val_loss: 1.0853 - val_accuracy: 0.5951\n",
      "Epoch 25/100\n",
      "226/226 [==============================] - 972s 4s/step - loss: 1.1057 - accuracy: 0.5806 - val_loss: 1.0857 - val_accuracy: 0.5903\n",
      "Epoch 26/100\n",
      "226/226 [==============================] - 996s 4s/step - loss: 1.1012 - accuracy: 0.5832 - val_loss: 1.0825 - val_accuracy: 0.5892\n",
      "Epoch 27/100\n",
      "226/226 [==============================] - 1002s 4s/step - loss: 1.0896 - accuracy: 0.5899 - val_loss: 1.0860 - val_accuracy: 0.5957\n",
      "Epoch 28/100\n",
      "226/226 [==============================] - 968s 4s/step - loss: 1.0794 - accuracy: 0.5893 - val_loss: 1.0743 - val_accuracy: 0.5975\n",
      "Epoch 29/100\n",
      "226/226 [==============================] - 975s 4s/step - loss: 1.0755 - accuracy: 0.5916 - val_loss: 1.0796 - val_accuracy: 0.5985\n",
      "Epoch 30/100\n",
      "226/226 [==============================] - 1025s 5s/step - loss: 1.0626 - accuracy: 0.5981 - val_loss: 1.0914 - val_accuracy: 0.5907\n",
      "Epoch 31/100\n",
      "226/226 [==============================] - 996s 4s/step - loss: 1.0569 - accuracy: 0.6019 - val_loss: 1.0750 - val_accuracy: 0.5992\n",
      "Epoch 32/100\n",
      "226/226 [==============================] - 972s 4s/step - loss: 1.0498 - accuracy: 0.6023 - val_loss: 1.0692 - val_accuracy: 0.5992\n",
      "Epoch 33/100\n",
      "226/226 [==============================] - 1012s 4s/step - loss: 1.0476 - accuracy: 0.6043 - val_loss: 1.0688 - val_accuracy: 0.6047\n",
      "Epoch 34/100\n",
      "226/226 [==============================] - 1037s 5s/step - loss: 1.0343 - accuracy: 0.6092 - val_loss: 1.0682 - val_accuracy: 0.6073\n",
      "Epoch 35/100\n",
      "226/226 [==============================] - 996s 4s/step - loss: 1.0266 - accuracy: 0.6112 - val_loss: 1.0691 - val_accuracy: 0.5961\n",
      "Epoch 36/100\n",
      "226/226 [==============================] - 981s 4s/step - loss: 1.0236 - accuracy: 0.6142 - val_loss: 1.0660 - val_accuracy: 0.6081\n",
      "Epoch 37/100\n",
      "226/226 [==============================] - 1059s 5s/step - loss: 1.0207 - accuracy: 0.6156 - val_loss: 1.0601 - val_accuracy: 0.6030\n",
      "Epoch 38/100\n",
      "226/226 [==============================] - 1021s 5s/step - loss: 1.0223 - accuracy: 0.6161 - val_loss: 1.0515 - val_accuracy: 0.6135\n",
      "Epoch 39/100\n",
      "226/226 [==============================] - 1049s 5s/step - loss: 1.0034 - accuracy: 0.6210 - val_loss: 1.0607 - val_accuracy: 0.6149\n",
      "Epoch 40/100\n",
      "226/226 [==============================] - 1080s 5s/step - loss: 1.0065 - accuracy: 0.6203 - val_loss: 1.0637 - val_accuracy: 0.6093\n",
      "Epoch 41/100\n",
      "226/226 [==============================] - 1636s 7s/step - loss: 0.9956 - accuracy: 0.6265 - val_loss: 1.0644 - val_accuracy: 0.5995\n",
      "Epoch 42/100\n",
      "226/226 [==============================] - 1219s 5s/step - loss: 0.9895 - accuracy: 0.6265 - val_loss: 1.0430 - val_accuracy: 0.6142\n",
      "Epoch 43/100\n",
      "226/226 [==============================] - 1132s 5s/step - loss: 0.9881 - accuracy: 0.6312 - val_loss: 1.0512 - val_accuracy: 0.6090\n",
      "Epoch 44/100\n",
      "226/226 [==============================] - 1109s 5s/step - loss: 0.9802 - accuracy: 0.6325 - val_loss: 1.0412 - val_accuracy: 0.6190\n",
      "Epoch 45/100\n",
      "226/226 [==============================] - 1112s 5s/step - loss: 0.9684 - accuracy: 0.6340 - val_loss: 1.0502 - val_accuracy: 0.6121\n",
      "Epoch 46/100\n",
      "226/226 [==============================] - 1138s 5s/step - loss: 0.9627 - accuracy: 0.6386 - val_loss: 1.0546 - val_accuracy: 0.6087\n",
      "Epoch 47/100\n",
      "226/226 [==============================] - 1491s 7s/step - loss: 0.9574 - accuracy: 0.6397 - val_loss: 1.0491 - val_accuracy: 0.6084\n",
      "Epoch 48/100\n",
      "226/226 [==============================] - 1781s 8s/step - loss: 0.9563 - accuracy: 0.6418 - val_loss: 1.0630 - val_accuracy: 0.6029\n",
      "Epoch 49/100\n",
      "226/226 [==============================] - 2012s 9s/step - loss: 0.9552 - accuracy: 0.6412 - val_loss: 1.0551 - val_accuracy: 0.6097\n",
      "Epoch 50/100\n",
      "226/226 [==============================] - 1754s 8s/step - loss: 0.9410 - accuracy: 0.6458 - val_loss: 1.0508 - val_accuracy: 0.6071\n",
      "Epoch 51/100\n",
      "226/226 [==============================] - 1341s 6s/step - loss: 0.9418 - accuracy: 0.6495 - val_loss: 1.0622 - val_accuracy: 0.6042\n",
      "Epoch 52/100\n",
      "226/226 [==============================] - 1308s 6s/step - loss: 0.9367 - accuracy: 0.6472 - val_loss: 1.0306 - val_accuracy: 0.6180\n",
      "Epoch 53/100\n",
      "226/226 [==============================] - 1157s 5s/step - loss: 0.9297 - accuracy: 0.6510 - val_loss: 1.0407 - val_accuracy: 0.6105\n",
      "Epoch 54/100\n",
      "226/226 [==============================] - 1426s 6s/step - loss: 0.9205 - accuracy: 0.6549 - val_loss: 1.0418 - val_accuracy: 0.6108\n",
      "Epoch 55/100\n",
      "226/226 [==============================] - 1586s 7s/step - loss: 0.9184 - accuracy: 0.6557 - val_loss: 1.0409 - val_accuracy: 0.6159\n",
      "Epoch 56/100\n",
      "226/226 [==============================] - 1814s 8s/step - loss: 0.9163 - accuracy: 0.6548 - val_loss: 1.0378 - val_accuracy: 0.6187\n",
      "Epoch 57/100\n"
     ]
    },
    {
     "name": "stdout",
     "output_type": "stream",
     "text": [
      "226/226 [==============================] - 1496s 7s/step - loss: 0.9144 - accuracy: 0.6623 - val_loss: 1.0374 - val_accuracy: 0.6158\n",
      "Epoch 58/100\n",
      "226/226 [==============================] - 1562s 7s/step - loss: 0.9065 - accuracy: 0.6635 - val_loss: 1.0537 - val_accuracy: 0.6088\n",
      "Epoch 59/100\n",
      "226/226 [==============================] - 1100s 5s/step - loss: 0.8985 - accuracy: 0.6645 - val_loss: 1.0366 - val_accuracy: 0.6219\n",
      "Epoch 60/100\n",
      "226/226 [==============================] - 1184s 5s/step - loss: 0.8926 - accuracy: 0.6684 - val_loss: 1.0308 - val_accuracy: 0.6177\n",
      "Epoch 61/100\n",
      "226/226 [==============================] - 1237s 5s/step - loss: 0.8860 - accuracy: 0.6699 - val_loss: 1.0309 - val_accuracy: 0.6197\n",
      "Epoch 62/100\n",
      "226/226 [==============================] - 983s 4s/step - loss: 0.8793 - accuracy: 0.6704 - val_loss: 1.0441 - val_accuracy: 0.6211\n",
      "Epoch 63/100\n",
      "226/226 [==============================] - 1260s 6s/step - loss: 0.8792 - accuracy: 0.6721 - val_loss: 1.0315 - val_accuracy: 0.6224\n",
      "Epoch 64/100\n",
      "226/226 [==============================] - 1211s 5s/step - loss: 0.8738 - accuracy: 0.6786 - val_loss: 1.0348 - val_accuracy: 0.6141\n",
      "Epoch 65/100\n",
      "226/226 [==============================] - 1460s 6s/step - loss: 0.8743 - accuracy: 0.6745 - val_loss: 1.0603 - val_accuracy: 0.6101\n",
      "Epoch 66/100\n",
      "226/226 [==============================] - 1255s 6s/step - loss: 0.8690 - accuracy: 0.6803 - val_loss: 1.0302 - val_accuracy: 0.6176\n",
      "Epoch 67/100\n",
      "226/226 [==============================] - 975s 4s/step - loss: 0.8610 - accuracy: 0.6826 - val_loss: 1.0420 - val_accuracy: 0.6190\n",
      "Epoch 68/100\n",
      "226/226 [==============================] - 963s 4s/step - loss: 0.8665 - accuracy: 0.6755 - val_loss: 1.0524 - val_accuracy: 0.6149\n",
      "Epoch 69/100\n",
      "226/226 [==============================] - 973s 4s/step - loss: 0.8593 - accuracy: 0.6809 - val_loss: 1.0307 - val_accuracy: 0.6210\n",
      "Epoch 70/100\n",
      "226/226 [==============================] - 969s 4s/step - loss: 0.8426 - accuracy: 0.6848 - val_loss: 1.0515 - val_accuracy: 0.6192\n",
      "Epoch 71/100\n",
      "226/226 [==============================] - 981s 4s/step - loss: 0.8427 - accuracy: 0.6877 - val_loss: 1.0334 - val_accuracy: 0.6228\n",
      "Epoch 72/100\n",
      "226/226 [==============================] - 986s 4s/step - loss: 0.8440 - accuracy: 0.6903 - val_loss: 1.0271 - val_accuracy: 0.6224\n",
      "Epoch 73/100\n",
      "226/226 [==============================] - 962s 4s/step - loss: 0.8446 - accuracy: 0.6884 - val_loss: 1.0334 - val_accuracy: 0.6207\n",
      "Epoch 74/100\n",
      "226/226 [==============================] - 959s 4s/step - loss: 0.8280 - accuracy: 0.6919 - val_loss: 1.0352 - val_accuracy: 0.6211\n",
      "Epoch 75/100\n",
      "226/226 [==============================] - 1189s 5s/step - loss: 0.8318 - accuracy: 0.6949 - val_loss: 1.0331 - val_accuracy: 0.6247\n",
      "Epoch 76/100\n",
      "226/226 [==============================] - 1138s 5s/step - loss: 0.8221 - accuracy: 0.6990 - val_loss: 1.0368 - val_accuracy: 0.6243\n",
      "Epoch 77/100\n",
      "226/226 [==============================] - 1175s 5s/step - loss: 0.8159 - accuracy: 0.6989 - val_loss: 1.0362 - val_accuracy: 0.6241\n",
      "Epoch 78/100\n",
      "226/226 [==============================] - 1004s 4s/step - loss: 0.8142 - accuracy: 0.6979 - val_loss: 1.0421 - val_accuracy: 0.6231\n",
      "Epoch 79/100\n",
      "226/226 [==============================] - 954s 4s/step - loss: 0.8100 - accuracy: 0.6999 - val_loss: 1.0280 - val_accuracy: 0.6285\n",
      "Epoch 80/100\n",
      "226/226 [==============================] - 1162s 5s/step - loss: 0.8096 - accuracy: 0.7026 - val_loss: 1.0433 - val_accuracy: 0.6185\n",
      "Epoch 81/100\n",
      "226/226 [==============================] - 1129s 5s/step - loss: 0.8091 - accuracy: 0.7016 - val_loss: 1.0303 - val_accuracy: 0.6313\n",
      "Epoch 82/100\n",
      "226/226 [==============================] - 1136s 5s/step - loss: 0.7937 - accuracy: 0.7087 - val_loss: 1.0407 - val_accuracy: 0.6260\n",
      "Epoch 83/100\n",
      "226/226 [==============================] - 1366s 6s/step - loss: 0.7934 - accuracy: 0.7069 - val_loss: 1.0375 - val_accuracy: 0.6227\n",
      "Epoch 84/100\n",
      "226/226 [==============================] - 1238s 5s/step - loss: 0.7923 - accuracy: 0.7098 - val_loss: 1.0341 - val_accuracy: 0.6254\n",
      "Epoch 85/100\n",
      "226/226 [==============================] - 1186s 5s/step - loss: 0.7870 - accuracy: 0.7105 - val_loss: 1.0264 - val_accuracy: 0.6309\n",
      "Epoch 86/100\n",
      "226/226 [==============================] - 1135s 5s/step - loss: 0.7757 - accuracy: 0.7153 - val_loss: 1.0296 - val_accuracy: 0.6282\n",
      "Epoch 87/100\n",
      "226/226 [==============================] - 1096s 5s/step - loss: 0.7837 - accuracy: 0.7114 - val_loss: 1.0414 - val_accuracy: 0.6272\n",
      "Epoch 88/100\n",
      "226/226 [==============================] - 1097s 5s/step - loss: 0.7796 - accuracy: 0.7113 - val_loss: 1.0449 - val_accuracy: 0.6262\n",
      "Epoch 89/100\n",
      "226/226 [==============================] - 1076s 5s/step - loss: 0.7713 - accuracy: 0.7155 - val_loss: 1.0299 - val_accuracy: 0.6319\n",
      "Epoch 90/100\n",
      "226/226 [==============================] - 1216s 5s/step - loss: 0.7681 - accuracy: 0.7192 - val_loss: 1.0460 - val_accuracy: 0.6282\n",
      "Epoch 91/100\n",
      "226/226 [==============================] - 1218s 5s/step - loss: 0.7656 - accuracy: 0.7194 - val_loss: 1.0238 - val_accuracy: 0.6313\n",
      "Epoch 92/100\n",
      "226/226 [==============================] - 1222s 5s/step - loss: 0.7680 - accuracy: 0.7154 - val_loss: 1.0259 - val_accuracy: 0.6282\n",
      "Epoch 93/100\n",
      "226/226 [==============================] - 1206s 5s/step - loss: 0.7653 - accuracy: 0.7211 - val_loss: 1.0390 - val_accuracy: 0.6289\n",
      "Epoch 94/100\n",
      "226/226 [==============================] - 1198s 5s/step - loss: 0.7575 - accuracy: 0.7250 - val_loss: 1.0327 - val_accuracy: 0.6325\n",
      "Epoch 95/100\n",
      "226/226 [==============================] - 1211s 5s/step - loss: 0.7485 - accuracy: 0.7262 - val_loss: 1.0262 - val_accuracy: 0.6306\n",
      "Epoch 96/100\n",
      "226/226 [==============================] - 1227s 5s/step - loss: 0.7480 - accuracy: 0.7279 - val_loss: 1.0400 - val_accuracy: 0.6308\n",
      "Epoch 97/100\n",
      "226/226 [==============================] - 1335s 6s/step - loss: 0.7424 - accuracy: 0.7279 - val_loss: 1.0440 - val_accuracy: 0.6292\n",
      "Epoch 98/100\n",
      "226/226 [==============================] - 1222s 5s/step - loss: 0.7386 - accuracy: 0.7331 - val_loss: 1.0331 - val_accuracy: 0.6342\n",
      "Epoch 99/100\n",
      "226/226 [==============================] - 1246s 6s/step - loss: 0.7331 - accuracy: 0.7334 - val_loss: 1.0334 - val_accuracy: 0.6289\n",
      "Epoch 100/100\n",
      "226/226 [==============================] - 1331s 6s/step - loss: 0.7379 - accuracy: 0.7354 - val_loss: 1.0353 - val_accuracy: 0.6272\n"
     ]
    },
    {
     "data": {
      "text/plain": [
       "<keras.src.callbacks.History at 0x7f81eb4b65e0>"
      ]
     },
     "execution_count": 38,
     "metadata": {},
     "output_type": "execute_result"
    }
   ],
   "source": [
    "model.fit(x=x_train, y=y_train, batch_size=128, epochs=100, validation_data=(x_test,y_test))"
   ]
  },
  {
   "cell_type": "code",
   "execution_count": 39,
   "id": "bfa4c3d2",
   "metadata": {},
   "outputs": [
    {
     "name": "stderr",
     "output_type": "stream",
     "text": [
      "/opt/anaconda3/lib/python3.8/site-packages/keras/src/engine/training.py:3000: UserWarning: You are saving your model as an HDF5 file via `model.save()`. This file format is considered legacy. We recommend using instead the native Keras format, e.g. `model.save('my_model.keras')`.\n",
      "  saving_api.save_model(\n"
     ]
    }
   ],
   "source": [
    "model_json = model.to_json()\n",
    "with open(\"emotiondetector.json\", 'w') as json_file:\n",
    "    json_file.write(model_json)\n",
    "model.save(\"emotiondetector.h5\")"
   ]
  },
  {
   "cell_type": "code",
   "execution_count": 40,
   "id": "33d2619d",
   "metadata": {},
   "outputs": [],
   "source": [
    "from keras.models import model_from_json"
   ]
  },
  {
   "cell_type": "code",
   "execution_count": 41,
   "id": "3e7c4043",
   "metadata": {},
   "outputs": [],
   "source": [
    "json_file = open(\"emotiondetector.json\", 'r')\n",
    "model_json = json_file.read()\n",
    "json_file.close()\n",
    "model = model_from_json(model_json)\n",
    "model.load_weights(\"emotiondetector.h5\")"
   ]
  },
  {
   "cell_type": "code",
   "execution_count": 42,
   "id": "f1ff8d22",
   "metadata": {},
   "outputs": [],
   "source": [
    "label = ['angry', 'disgust', 'fear', 'happy', 'neutral', 'sad', 'surprise']"
   ]
  },
  {
   "cell_type": "code",
   "execution_count": 47,
   "id": "fa81ee42",
   "metadata": {},
   "outputs": [],
   "source": [
    "def extract_feature_single(image):\n",
    "    img = load_img(image,grayscale = True)\n",
    "    feature = np.array(img)\n",
    "    feature = feature.reshape(1,48,48,1)\n",
    "    return feature/255.0"
   ]
  },
  {
   "cell_type": "code",
   "execution_count": 52,
   "id": "f3af0523",
   "metadata": {},
   "outputs": [
    {
     "name": "stdout",
     "output_type": "stream",
     "text": [
      "The original image is of sad.\n",
      "1/1 [==============================] - 0s 48ms/step\n",
      "The model predicted the image as sad\n"
     ]
    }
   ],
   "source": [
    "image = 'images/train/sad/54.jpg'\n",
    "print('The original image is of sad.')\n",
    "img = extract_feature_single(image)\n",
    "pred = model.predict(img)\n",
    "pred_label = label[pred.argmax()]\n",
    "print(\"The model predicted the image as\", pred_label)"
   ]
  },
  {
   "cell_type": "code",
   "execution_count": 56,
   "id": "0e315168",
   "metadata": {},
   "outputs": [
    {
     "data": {
      "text/plain": [
       "<matplotlib.image.AxesImage at 0x7f81acbb5370>"
      ]
     },
     "execution_count": 56,
     "metadata": {},
     "output_type": "execute_result"
    },
    {
     "data": {
      "image/png": "[encoded data removed]",
      "text/plain": [
       "<Figure size 432x288 with 1 Axes>"
      ]
     },
     "metadata": {
      "needs_background": "light"
     },
     "output_type": "display_data"
    }
   ],
   "source": [
    "import matplotlib.pyplot as plt\n",
    "plt.imshow(img.reshape(48,48),cmap='gray')"
   ]
  },
  {
   "cell_type": "code",
   "execution_count": null,
   "id": "7b2c6c6f",
   "metadata": {},
   "outputs": [],
   "source": []
  }
 ],
 "metadata": {
  "kernelspec": {
   "display_name": "Python 3",
   "language": "python",
   "name": "python3"
  },
  "language_info": {
   "codemirror_mode": {
    "name": "ipython",
    "version": 3
   },
   "file_extension": ".py",
   "mimetype": "text/x-python",
   "name": "python",
   "nbconvert_exporter": "python",
   "pygments_lexer": "ipython3",
   "version": "3.8.8"
  }
 },
 "nbformat": 4,
 "nbformat_minor": 5
}
